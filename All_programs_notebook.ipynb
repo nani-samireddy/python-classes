{
 "cells": [
  {
   "cell_type": "markdown",
   "id": "2d359046",
   "metadata": {},
   "source": [
    "## DAY1\n",
    "* addition of two numbers"
   ]
  },
  {
   "cell_type": "code",
   "execution_count": null,
   "id": "25612a12",
   "metadata": {},
   "outputs": [],
   "source": [
    "\n",
    "def add(x,y):\n",
    "    c = x+y\n",
    "    return c\n",
    "\n",
    "a = int(input())\n",
    "b = int(input())\n",
    "print(add(a,b))"
   ]
  },
  {
   "cell_type": "markdown",
   "id": "1b8e38e4",
   "metadata": {},
   "source": [
    "## DAY 2\n",
    "* Perfect number"
   ]
  },
  {
   "cell_type": "code",
   "execution_count": null,
   "id": "67bd4da9",
   "metadata": {},
   "outputs": [],
   "source": [
    "import math as M\n",
    "def isPerfect(number):\n",
    "    res = 1\n",
    "    sqrt = int(M.sqrt(number))\n",
    "    for i in range(2,sqrt+1):\n",
    "        if(number%i == 0):\n",
    "            res += (i + (number//i))\n",
    "    return res==number\n",
    "\n",
    "t = int(input())\n",
    "for _ in range(0,t):\n",
    "    num = int(input())\n",
    "    print(isPerfect(num))\n",
    "\n"
   ]
  },
  {
   "cell_type": "markdown",
   "id": "ef4358d5",
   "metadata": {},
   "source": [
    "* spy number"
   ]
  },
  {
   "cell_type": "code",
   "execution_count": null,
   "id": "feb74651",
   "metadata": {},
   "outputs": [],
   "source": [
    "#normal division\n",
    "def isSpy(number):\n",
    "    sum = 0\n",
    "    prod = 1\n",
    "    while(number>0):\n",
    "        rem = number%10\n",
    "        sum +=rem\n",
    "        prod *=rem\n",
    "        number=number//10\n",
    "    return sum==prod\n",
    "\n",
    "t = int(input())\n",
    "for _ in range(0,t):\n",
    "    num = int(input())\n",
    "    print(isSpy(num))\n",
    "\n"
   ]
  },
  {
   "cell_type": "markdown",
   "id": "73ca91a1",
   "metadata": {},
   "source": [
    "* SPY number using string functions"
   ]
  },
  {
   "cell_type": "code",
   "execution_count": null,
   "id": "b75f671c",
   "metadata": {},
   "outputs": [],
   "source": [
    "#using strings\n",
    "def isSpy(number):\n",
    "    sum = 0\n",
    "    prod = 1\n",
    "    for digit in number:\n",
    "        sum +=int(digit)\n",
    "        prod *=int(digit)\n",
    "    return sum==prod\n",
    "\n",
    "t = int(input())\n",
    "for _ in range(0,t):\n",
    "    num = input()\n",
    "    print(isSpy(num))\n"
   ]
  },
  {
   "cell_type": "markdown",
   "id": "a53c184d",
   "metadata": {},
   "source": [
    "## DAY 3"
   ]
  },
  {
   "cell_type": "markdown",
   "id": "22fba6d0",
   "metadata": {},
   "source": [
    "* semi-prime number"
   ]
  },
  {
   "cell_type": "code",
   "execution_count": null,
   "id": "b77b0a99",
   "metadata": {},
   "outputs": [
    {
     "ename": "",
     "evalue": "",
     "output_type": "error",
     "traceback": [
      "\u001b[1;31mFailed to start the Kernel. \n",
      "Kernel Python 3.10.4 64-bit is not usable. Check the Jupyter output tab for more information. \n",
      "View Jupyter <a href='command:jupyter.viewOutput'>log</a> for further details."
     ]
    }
   ],
   "source": [
    "\n",
    "import math as M\n",
    "\n",
    "def isPrime(n):\n",
    "    if(n==1):\n",
    "        return False\n",
    "    else:\n",
    "        isprime = True\n",
    "        end = int(M.sqrt(n))+1\n",
    "        for i in range(2,end):\n",
    "            if(n%i==0):\n",
    "                isprime=False\n",
    "                break\n",
    "        return isprime\n",
    "\n",
    "    \n",
    "def isSPrime(number):\n",
    "    primeCounter = 2\n",
    "    res=False\n",
    "    counter = int(M.sqrt(number))\n",
    "    for i in range(2,counter+1):\n",
    "        if number%i==0 and isPrime(i) and isPrime(number//i):\n",
    "            res=True\n",
    "            break\n",
    "    return res\n",
    "    \n",
    "        \n",
    "    \n",
    "t = int(input())\n",
    "for _ in range(0,t):\n",
    "    num = int(input())\n",
    "    print(isSPrime(num))\n",
    "\n"
   ]
  },
  {
   "cell_type": "markdown",
   "id": "70a02d82",
   "metadata": {},
   "source": [
    "* Happy number"
   ]
  },
  {
   "cell_type": "code",
   "execution_count": null,
   "id": "87c6cd3a",
   "metadata": {},
   "outputs": [],
   "source": [
    "##Happy number\n",
    "def digitSum(number):\n",
    "    s = 0\n",
    "    while(number > 0):\n",
    "        rem = int(number % 10)\n",
    "        s += (rem*rem)\n",
    "        number = number//10\n",
    "    return s\n",
    "\n",
    "\n",
    "def isHappyNumber(num):\n",
    "    if num <= 9:\n",
    "        return num == 1 or num == 7\n",
    "    else:\n",
    "        s = digitSum(num)\n",
    "        return isHappyNumber(s)\n",
    "\n",
    "\n",
    "t = int(input())\n",
    "for _ in range(0, t):\n",
    "    num = int(input())\n",
    "    print(isHappyNumber(num))\n"
   ]
  },
  {
   "cell_type": "markdown",
   "id": "3ce0f74c",
   "metadata": {},
   "source": [
    "## DAY 4"
   ]
  },
  {
   "cell_type": "markdown",
   "id": "a80a5ee8",
   "metadata": {},
   "source": [
    "* Russian Peasant Multiplication"
   ]
  },
  {
   "cell_type": "code",
   "execution_count": null,
   "id": "d6bf5f2c",
   "metadata": {},
   "outputs": [],
   "source": [
    "#using loops\n",
    "def russian_peasant_multiplication(a,b):\n",
    "    product=0\n",
    "    while(a>0):\n",
    "        if(a%2!=0):\n",
    "            product +=b\n",
    "        a = a//2\n",
    "        b = b*2\n",
    "    return product\n",
    "\n",
    "t = int(input())\n",
    "for _ in range(0,t):\n",
    "    a,b=map(int,input().split())\n",
    "    print(russian_peasant_multiplication(a,b),(a*b))\n",
    "    \n",
    "\n"
   ]
  },
  {
   "cell_type": "markdown",
   "id": "dee90b63",
   "metadata": {},
   "source": [
    "* Russian Peasant using recurrsion"
   ]
  },
  {
   "cell_type": "code",
   "execution_count": null,
   "id": "3ebe1780",
   "metadata": {},
   "outputs": [],
   "source": [
    "##using recursion\n",
    "def russian_peasant_multiplication(a,b):\n",
    "   if(a>0):\n",
    "       print(a,b)\n",
    "       if(a%2!=0):\n",
    "           return (b) + russian_peasant_multiplication(a//2,b*2)\n",
    "       else:\n",
    "           return russian_peasant_multiplication(a//2,b*2)\n",
    "   else:\n",
    "        return 0\n",
    "        \n",
    "\n",
    "t = int(input())\n",
    "for _ in range(0,t):\n",
    "    a,b=map(int,input().split())\n",
    "    print(russian_peasant_multiplication(a,b),(a*b))\n",
    "    \n",
    "\n"
   ]
  },
  {
   "cell_type": "markdown",
   "id": "28e14c46",
   "metadata": {},
   "source": [
    "* isPrime using recurrsion"
   ]
  },
  {
   "cell_type": "code",
   "execution_count": null,
   "id": "9c9fddb2",
   "metadata": {},
   "outputs": [],
   "source": [
    "import math\n",
    "i=2\n",
    "def isPrime(num):\n",
    "    global i\n",
    "    if i>sqrt:\n",
    "        return True\n",
    "    if num%i==0:\n",
    "        return False\n",
    "    else:\n",
    "        i=i+1\n",
    "        return isPraime(num)\n",
    "        \n",
    "   \n",
    "        \n",
    "\n",
    "t = int(input())\n",
    "sqrt=0\n",
    "for _ in range(0,t):\n",
    "    a=int(input())\n",
    "    i=2\n",
    "    sqrt = int(math.sqrt(a))\n",
    "    print(isPrime(a))\n",
    "    \n"
   ]
  },
  {
   "cell_type": "markdown",
   "id": "0282c408",
   "metadata": {},
   "source": [
    "* sum of all factors of a number using recurrsion"
   ]
  },
  {
   "cell_type": "code",
   "execution_count": null,
   "id": "5a698fad",
   "metadata": {},
   "outputs": [],
   "source": [
    "import math\n",
    "sum=0\n",
    "i=2\n",
    "def sumOfFactors(num):\n",
    "    global i\n",
    "    if(i<sqrt):\n",
    "        c=0\n",
    "        if(num%i==0):\n",
    "            if(i!=num//i):\n",
    "               c+=num//i\n",
    "            c+=i\n",
    "        i+=1\n",
    "        return c + sumOfFactors(num)\n",
    "    else:\n",
    "        return 0\n",
    "        \n",
    "   \n",
    "        \n",
    "\n",
    "t = int(input())\n",
    "sqrt=0\n",
    "for _ in range(0,t):\n",
    "    a=int(input())\n",
    "    i=2\n",
    "    sqrt=int(math.sqrt(a))\n",
    "    print(\"sum=\",sumOfFactors(a))\n",
    "    \n"
   ]
  },
  {
   "cell_type": "markdown",
   "id": "a05c8a01",
   "metadata": {},
   "source": [
    "* LCM of two numbers using loops"
   ]
  },
  {
   "cell_type": "code",
   "execution_count": null,
   "id": "7dba28f8",
   "metadata": {},
   "outputs": [],
   "source": [
    "import math\n",
    "sum=0\n",
    "i=2\n",
    "def lcmOfNumbers(a,b):\n",
    "    t=2\n",
    "    res=1\n",
    "    while(a>=t and b>=t):\n",
    "        if(a%t==0 and b%t==0):\n",
    "            a=a//t\n",
    "            b=b//t\n",
    "            res=res*t\n",
    "        else:\n",
    "            t+=1\n",
    "            \n",
    "    return res*a*b\n",
    "                \n",
    "        \n",
    "   \n",
    "        \n",
    "t = int(input())\n",
    "for _ in range(0,t):\n",
    "    a,b=map(int,input().split())\n",
    "    print(lcmOfNumbers(a,b))\n",
    "    \n"
   ]
  },
  {
   "cell_type": "markdown",
   "id": "b4ff97f5",
   "metadata": {},
   "source": [
    "* LCM of two numbers using recurrsion"
   ]
  },
  {
   "cell_type": "code",
   "execution_count": null,
   "id": "93caa041",
   "metadata": {},
   "outputs": [
    {
     "ename": "",
     "evalue": "",
     "output_type": "error",
     "traceback": [
      "\u001b[1;31mFailed to start the Kernel. \n",
      "Kernel Python 3.10.4 64-bit is not usable. Check the Jupyter output tab for more information. \n",
      "View Jupyter <a href='command:jupyter.viewOutput'>log</a> for further details."
     ]
    }
   ],
   "source": [
    "import math\n",
    "sum=0\n",
    "t=2\n",
    "def lcmOfNumbers(a,b):\n",
    "    global t\n",
    "    res=1\n",
    "    if t>a or t>b:\n",
    "        return a*b\n",
    "    else:\n",
    "        if a%t==0 or b%t==0:\n",
    "            res=t\n",
    "            a,b = ((a//t) if a%t==0 else a) ,((b//t) if b%t==0 else b) \n",
    "        else:\n",
    "            t+=1\n",
    "        print(t,\"|\",a,b)\n",
    "        return res * lcmOfNumbers(a,b)\n",
    "        \n",
    "\n",
    "\n",
    "test = int(input())\n",
    "for _ in range(0,test):\n",
    "    a,b=map(int,input().split())\n",
    "    t=2\n",
    "    print(\"LCM is=\",lcmOfNumbers(a,b))\n",
    "    \n"
   ]
  },
  {
   "cell_type": "markdown",
   "id": "70550c1e",
   "metadata": {},
   "source": [
    "## Day 5\n",
    "#### 29-07-2022"
   ]
  },
  {
   "cell_type": "markdown",
   "id": "694620d6",
   "metadata": {},
   "source": [
    " * GCD of two numbers using recurrsion"
   ]
  },
  {
   "cell_type": "code",
   "execution_count": null,
   "id": "f2ad46a9",
   "metadata": {},
   "outputs": [],
   "source": [
    "import math\n",
    "\n",
    "def gcd(a,b):\n",
    "    if(a<=0):\n",
    "        return b\n",
    "    elif b<=0:\n",
    "        return a\n",
    "    if a>b:\n",
    "        return gcd(a%b,b)\n",
    "    else:\n",
    "        return gcd(a,b%a)\n",
    "        \n",
    "\n",
    "\n",
    "test = int(input())\n",
    "for _ in range(0,test):\n",
    "    a,b=map(int,input().split())\n",
    "    t=2\n",
    "    print(\"GCD is=\",gcd(a,b))\n",
    "    \n",
    "\n"
   ]
  },
  {
   "cell_type": "markdown",
   "id": "9a5131d6",
   "metadata": {},
   "source": [
    "* GCD using functions"
   ]
  },
  {
   "cell_type": "code",
   "execution_count": null,
   "id": "bfd59d4b",
   "metadata": {},
   "outputs": [],
   "source": [
    "\n",
    "def gcd(a,b):\n",
    "    res = 0\n",
    "    while(a>0 and b>0):\n",
    "        if(a>b):\n",
    "            a=a%b\n",
    "        else:\n",
    "            b=b%a\n",
    "    if a>b:\n",
    "        return a\n",
    "    else:\n",
    "        return b\n",
    "\n",
    "\n",
    "test = int(input())\n",
    "for _ in range(0,test):\n",
    "    a,b=map(int,input().split())\n",
    "    t=2\n",
    "    print(\"GCD is=\",gcd(a,b))\n",
    "    \n"
   ]
  },
  {
   "cell_type": "markdown",
   "id": "3a39c90a",
   "metadata": {},
   "source": [
    "* LCM of array"
   ]
  },
  {
   "cell_type": "code",
   "execution_count": null,
   "id": "0c3aef85",
   "metadata": {},
   "outputs": [],
   "source": [
    "\n",
    "def lcm(a,b):\n",
    "    t=2\n",
    "    res=1\n",
    "    while(a>=t and b>=t):\n",
    "        if(a%t==0 and b%t==0):\n",
    "            a=a//t\n",
    "            b=b//t\n",
    "            res=res*t\n",
    "        else:\n",
    "            t+=1        \n",
    "    return res*a*b\n",
    "\n",
    "def arrLCM(arr):\n",
    "    res=arr[0]\n",
    "    for i in range(1,len(arr)):\n",
    "        res=lcm(res,arr[i])\n",
    "    return res\n",
    "        \n",
    "\n",
    "\n",
    "n = int(input())\n",
    "arr = [0]*n\n",
    "for _ in range(0,n):\n",
    "    arr[_]=int(input())\n",
    "print(arrLCM(arr))\n",
    "    \n"
   ]
  }
 ],
 "metadata": {
  "kernelspec": {
   "display_name": "Python 3.10.4 64-bit",
   "language": "python",
   "name": "python3"
  },
  "language_info": {
   "codemirror_mode": {
    "name": "ipython",
    "version": 3
   },
   "file_extension": ".py",
   "mimetype": "text/x-python",
   "name": "python",
   "nbconvert_exporter": "python",
   "pygments_lexer": "ipython3",
   "version": "3.10.4"
  },
  "vscode": {
   "interpreter": {
    "hash": "aee8b7b246df8f9039afb4144a1f6fd8d2ca17a180786b69acc140d282b71a49"
   }
  }
 },
 "nbformat": 4,
 "nbformat_minor": 5
}
