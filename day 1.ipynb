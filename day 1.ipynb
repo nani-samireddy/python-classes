{
 "cells": [
  {
   "cell_type": "markdown",
   "id": "2d359046",
   "metadata": {},
   "source": [
    "## DAY1"
   ]
  },
  {
   "cell_type": "code",
   "execution_count": null,
   "id": "25612a12",
   "metadata": {},
   "outputs": [],
   "source": [
    "\n",
    "def add(x,y):\n",
    "    c = x+y\n",
    "    return c\n",
    "\n",
    "a = int(input())\n",
    "b = int(input())\n",
    "print(add(a,b))"
   ]
  },
  {
   "cell_type": "markdown",
   "id": "1b8e38e4",
   "metadata": {},
   "source": [
    "## DAY 2\n",
    "### Perect number"
   ]
  },
  {
   "cell_type": "code",
   "execution_count": null,
   "id": "67bd4da9",
   "metadata": {},
   "outputs": [],
   "source": [
    "import math as M\n",
    "def isPerfect(number):\n",
    "    res = 1\n",
    "    sqrt = int(M.sqrt(number))\n",
    "    for i in range(2,sqrt+1):\n",
    "        if(number%i == 0):\n",
    "            res += (i + (number//i))\n",
    "    return res==number\n",
    "\n",
    "t = int(input())\n",
    "for _ in range(0,t):\n",
    "    num = int(input())\n",
    "    print(isPerfect(num))\n",
    "\n"
   ]
  },
  {
   "cell_type": "markdown",
   "id": "ef4358d5",
   "metadata": {},
   "source": [
    "### spy number"
   ]
  },
  {
   "cell_type": "code",
   "execution_count": null,
   "id": "feb74651",
   "metadata": {},
   "outputs": [],
   "source": [
    "#normal division\n",
    "def isSpy(number):\n",
    "    sum = 0\n",
    "    prod = 1\n",
    "    while(number>0):\n",
    "        rem = number%10\n",
    "        sum +=rem\n",
    "        prod *=rem\n",
    "        number=number//10\n",
    "    return sum==prod\n",
    "\n",
    "t = int(input())\n",
    "for _ in range(0,t):\n",
    "    num = int(input())\n",
    "    print(isSpy(num))\n",
    "\n"
   ]
  },
  {
   "cell_type": "code",
   "execution_count": null,
   "id": "b75f671c",
   "metadata": {},
   "outputs": [],
   "source": [
    "#using strings\n",
    "def isSpy(number):\n",
    "    sum = 0\n",
    "    prod = 1\n",
    "    for digit in number:\n",
    "        sum +=int(digit)\n",
    "        prod *=int(digit)\n",
    "    return sum==prod\n",
    "\n",
    "t = int(input())\n",
    "for _ in range(0,t):\n",
    "    num = input()\n",
    "    print(isSpy(num))\n"
   ]
  },
  {
   "cell_type": "code",
   "execution_count": null,
   "id": "b77b0a99",
   "metadata": {},
   "outputs": [
    {
     "ename": "",
     "evalue": "",
     "output_type": "error",
     "traceback": [
      "\u001b[1;31mFailed to start the Kernel. \n",
      "Kernel Python 3.10.4 64-bit is not usable. Check the Jupyter output tab for more information. \n",
      "View Jupyter <a href='command:jupyter.viewOutput'>log</a> for further details."
     ]
    }
   ],
   "source": [
    "\n",
    "import math as M\n",
    "\n",
    "def isPrime(n):\n",
    "    if(n==1):\n",
    "        return False\n",
    "    else:\n",
    "        isprime = True\n",
    "        end = int(M.sqrt(n))+1\n",
    "        for i in range(2,end):\n",
    "            if(n%i==0):\n",
    "                isprime=False\n",
    "                break\n",
    "        return isprime\n",
    "\n",
    "    \n",
    "def isSPrime(number):\n",
    "    primeCounter = 2\n",
    "    res=False\n",
    "    counter = int(M.sqrt(number))\n",
    "    for i in range(2,counter+1):\n",
    "        if number%i==0 and isPrime(i) and isPrime(number//i):\n",
    "            res=True\n",
    "            break\n",
    "    return res\n",
    "    \n",
    "        \n",
    "    \n",
    "t = int(input())\n",
    "for _ in range(0,t):\n",
    "    num = int(input())\n",
    "    print(isSPrime(num))\n",
    "\n"
   ]
  },
  {
   "cell_type": "markdown",
   "id": "70a02d82",
   "metadata": {},
   "source": []
  },
  {
   "cell_type": "code",
   "execution_count": null,
   "id": "87c6cd3a",
   "metadata": {},
   "outputs": [],
   "source": []
  }
 ],
 "metadata": {
  "kernelspec": {
   "display_name": "Python 3.10.4 64-bit",
   "language": "python",
   "name": "python3"
  },
  "language_info": {
   "codemirror_mode": {
    "name": "ipython",
    "version": 3
   },
   "file_extension": ".py",
   "mimetype": "text/x-python",
   "name": "python",
   "nbconvert_exporter": "python",
   "pygments_lexer": "ipython3",
   "version": "3.10.4"
  },
  "vscode": {
   "interpreter": {
    "hash": "aee8b7b246df8f9039afb4144a1f6fd8d2ca17a180786b69acc140d282b71a49"
   }
  }
 },
 "nbformat": 4,
 "nbformat_minor": 5
}
